{
  "nbformat": 4,
  "nbformat_minor": 0,
  "metadata": {
    "colab": {
      "provenance": [],
      "toc_visible": true
    },
    "kernelspec": {
      "name": "python3",
      "display_name": "Python 3"
    },
    "language_info": {
      "name": "python"
    }
  },
  "cells": [
    {
      "cell_type": "markdown",
      "source": [
        "OPEN ENDED LAB :2"
      ],
      "metadata": {
        "id": "AxB-Fr9Icwcl"
      }
    },
    {
      "cell_type": "code",
      "source": [
        "def check_pattern(pattern, s):# function for checking the pattern\n",
        "  words = s.split()# convert the word into string\n",
        "  if len(pattern)!= len(words):# check the length of word and pattern\n",
        "    return False\n",
        "\n",
        "\n",
        "  char_to_word ={}    #create dictionaries\n",
        "  word_to_char = {}\n",
        "\n",
        "  for j in range(len(pattern)): #Iterate on pattern and word by using index\n",
        "    char = pattern[j]\n",
        "    word = words[j]\n",
        "\n",
        "    if char in char_to_word:\n",
        "      if char_to_word[char] != word:\n",
        "        return False\n",
        "    else:\n",
        "      char_to_word[char] = word\n",
        "\n",
        "    if word in word_to_char:\n",
        "      if word_to_char[word] != char:\n",
        "        return False\n",
        "    else:\n",
        "      word_to_char[word] = char\n",
        "\n",
        "  return True\n",
        "\n",
        "\n",
        "# Take input from the user\n",
        "pattern = input(\"Enter the pattern of your choice: \")\n",
        "s = input(\"Enter the string of your choice: \")\n",
        "# check the pattern is follow or Not\n",
        "if check_pattern(pattern, s):\n",
        "  print(\"THE PATTERN IS FOLLOW\")\n",
        "else:\n",
        "  print(\"THE PATTERN IS NOT FOLLOW\")"
      ],
      "metadata": {
        "colab": {
          "base_uri": "https://localhost:8080/"
        },
        "id": "1YxGa40So4Vr",
        "outputId": "c719dde2-97b7-4c0a-c538-9499fd26c47b"
      },
      "execution_count": 13,
      "outputs": [
        {
          "output_type": "stream",
          "name": "stdout",
          "text": [
            "Enter the pattern of your choice: hhhh\n",
            "Enter the string of your choice: hafsa hafsa hafsa hafsa\n",
            "THE PATTERN IS FOLLOW\n"
          ]
        }
      ]
    }
  ]
}